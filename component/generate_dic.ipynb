{
 "cells": [
  {
   "cell_type": "code",
   "execution_count": 5,
   "metadata": {
    "collapsed": true,
    "pycharm": {
     "is_executing": false
    }
   },
   "outputs": [
    {
     "data": {
      "text/plain": "   nodeId                                      uri                       name  \\\n0       0  https://www.wikidata.org/wiki/Q94997800                King Caspar   \n1       1   https://www.wikidata.org/wiki/Q5713884          Hendrik Heerschop   \n2       2   https://www.wikidata.org/wiki/Q7401079               Saint Caspar   \n3       4    https://www.wikidata.org/wiki/Q335927                 Gerrit Dou   \n4       5  https://www.wikidata.org/wiki/Q28940972  Head of a Boy in a Turban   \n\n         label                                          embedding  \n0  [Paintings]  [-0.05749864876270294,0.5245335698127747,0.727...  \n1     [Person]  [-0.014176100492477417,0.22753266990184784,0.7...  \n2    [Keyword]  [-0.014176100492477417,0.22753266990184784,0.7...  \n3     [Person]          [0.0,0.0,0.0,0.0,0.0,0.0,0.0,0.0,0.0,0.0]  \n4  [Paintings]  [-0.679806113243103,0.4108748435974121,0.56249...  ",
      "text/html": "<div>\n<style scoped>\n    .dataframe tbody tr th:only-of-type {\n        vertical-align: middle;\n    }\n\n    .dataframe tbody tr th {\n        vertical-align: top;\n    }\n\n    .dataframe thead th {\n        text-align: right;\n    }\n</style>\n<table border=\"1\" class=\"dataframe\">\n  <thead>\n    <tr style=\"text-align: right;\">\n      <th></th>\n      <th>nodeId</th>\n      <th>uri</th>\n      <th>name</th>\n      <th>label</th>\n      <th>embedding</th>\n    </tr>\n  </thead>\n  <tbody>\n    <tr>\n      <th>0</th>\n      <td>0</td>\n      <td>https://www.wikidata.org/wiki/Q94997800</td>\n      <td>King Caspar</td>\n      <td>[Paintings]</td>\n      <td>[-0.05749864876270294,0.5245335698127747,0.727...</td>\n    </tr>\n    <tr>\n      <th>1</th>\n      <td>1</td>\n      <td>https://www.wikidata.org/wiki/Q5713884</td>\n      <td>Hendrik Heerschop</td>\n      <td>[Person]</td>\n      <td>[-0.014176100492477417,0.22753266990184784,0.7...</td>\n    </tr>\n    <tr>\n      <th>2</th>\n      <td>2</td>\n      <td>https://www.wikidata.org/wiki/Q7401079</td>\n      <td>Saint Caspar</td>\n      <td>[Keyword]</td>\n      <td>[-0.014176100492477417,0.22753266990184784,0.7...</td>\n    </tr>\n    <tr>\n      <th>3</th>\n      <td>4</td>\n      <td>https://www.wikidata.org/wiki/Q335927</td>\n      <td>Gerrit Dou</td>\n      <td>[Person]</td>\n      <td>[0.0,0.0,0.0,0.0,0.0,0.0,0.0,0.0,0.0,0.0]</td>\n    </tr>\n    <tr>\n      <th>4</th>\n      <td>5</td>\n      <td>https://www.wikidata.org/wiki/Q28940972</td>\n      <td>Head of a Boy in a Turban</td>\n      <td>[Paintings]</td>\n      <td>[-0.679806113243103,0.4108748435974121,0.56249...</td>\n    </tr>\n  </tbody>\n</table>\n</div>"
     },
     "metadata": {},
     "output_type": "execute_result",
     "execution_count": 5
    }
   ],
   "source": [
    "import pandas as pd \n",
    "import json\n",
    "entity_df = pd.read_csv(r'export.csv')\n",
    "\n",
    "entity_df.head()\n"
   ]
  },
  {
   "cell_type": "code",
   "execution_count": 18,
   "outputs": [
    {
     "name": "stdout",
     "text": [
      "Man in a Turban\n",
      "https://irieezamble.net/\n",
      "https://iriskensmil.nl/\n",
      "https://www.breitner.ahk.nl/lichting/2020/student/dion-rosina/\n",
      "https://www.artskop.com/artmedia/wp-content/uploads/2020/06/hedy-tjin-ilona-2019-viltstift-geprint-op-doek-here-black-artist-now-artskop-3437.png\n",
      "https://irieezamble.net/cv\n",
      "https://www.breitner.ahk.nl/lichting/2020/student/dion-rosina/\n",
      "https://www.instagram.com/tjinhedy/?hl=en\n"
     ],
     "output_type": "stream"
    }
   ],
   "source": [
    "label_list = ['City','Collection','Country','Exhibition','Genre',\n",
    "              'Keyword','Material','Movement','Paintings','Person']\n",
    "\n",
    "error_list = []\n",
    "for label in label_list:\n",
    "    name_list = []\n",
    "    uri_list = []\n",
    "    \n",
    "    for index, row in entity_df.iterrows():\n",
    "        if label in row['label']:\n",
    "            try:\n",
    "                uri_list.append(row['uri'].split('/')[-1])\n",
    "                if not row['uri'].split('/')[-1].startswith('Q'):\n",
    "                    print(row['uri'])\n",
    "                name_list.append(row['name'])\n",
    "            except:\n",
    "                error_list.append(row)\n",
    "    \n",
    "    \n",
    "    # value_syno = [{\"value\": t, \"synonyms\": [s,s.lower()]} for t, s in zip(uri_list, name_list)]\n",
    "    # target = json.dumps(value_syno)\n",
    "    target_path = 'C:\\\\Users\\\\LDLuc\\\\PycharmProject\\\\neo4j\\\\dict\\\\' + label + '_uri.txt'\n",
    "    # f = open(target_path,'w')\n",
    "    # f.write(target)\n",
    "    # f.close()\n",
    "    # with open(target_path,'w') as f:\n",
    "    #     for i in uri_list:\n",
    "    #         f.write(i+'\\n')\n",
    "# print(error_list)\n",
    "    \n",
    "    \n",
    "\n"
   ],
   "metadata": {
    "collapsed": false,
    "pycharm": {
     "name": "#%%\n",
     "is_executing": false
    }
   }
  }
 ],
 "metadata": {
  "kernelspec": {
   "display_name": "Python 3",
   "language": "python",
   "name": "python3"
  },
  "language_info": {
   "codemirror_mode": {
    "name": "ipython",
    "version": 2
   },
   "file_extension": ".py",
   "mimetype": "text/x-python",
   "name": "python",
   "nbconvert_exporter": "python",
   "pygments_lexer": "ipython2",
   "version": "2.7.6"
  },
  "pycharm": {
   "stem_cell": {
    "cell_type": "raw",
    "source": [],
    "metadata": {
     "collapsed": false
    }
   }
  }
 },
 "nbformat": 4,
 "nbformat_minor": 0
}